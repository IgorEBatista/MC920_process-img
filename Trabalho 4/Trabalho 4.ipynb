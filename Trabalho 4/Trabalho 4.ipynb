{
 "cells": [
  {
   "cell_type": "code",
   "execution_count": 1,
   "id": "27d59170",
   "metadata": {},
   "outputs": [],
   "source": [
    "import numpy as np\n",
    "import matplotlib.pyplot as plt\n",
    "from skimage.measure import label, regionprops\n",
    "from skimage.color import label2rgb\n",
    "import cv2\n",
    "import os\n",
    "\n",
    "input_path = 'images/'\n",
    "output_path = 'output/'\n",
    "output_path_prop = output_path + 'properties/'\n",
    "output_path_transf = output_path + 'transform/'\n",
    "\n",
    "if not os.path.exists(output_path):\n",
    "    os.makedirs(output_path)\n",
    "\n",
    "if not os.path.exists(output_path_prop):\n",
    "    os.makedirs(output_path_prop)\n",
    "\n",
    "if not os.path.exists(output_path_transf):\n",
    "    os.makedirs(output_path_transf)"
   ]
  },
  {
   "cell_type": "markdown",
   "id": "f7552876",
   "metadata": {},
   "source": [
    "# 1 - Medidas dos Objetos"
   ]
  },
  {
   "cell_type": "code",
   "execution_count": null,
   "id": "595d791b",
   "metadata": {},
   "outputs": [],
   "source": [
    "# Carregar as imagens\n",
    "imagens_orig = []\n",
    "for nome in sorted(os.listdir('images/prop/')):\n",
    "    if nome.endswith('.png'):\n",
    "        imagem = cv2.imread(f'./images/prop/{nome}', cv2.IMREAD_COLOR)\n",
    "        imagem = cv2.cvtColor(imagem, cv2.COLOR_BGR2RGB)\n",
    "        imagens_orig.append((imagem, nome[:-4]))"
   ]
  },
  {
   "cell_type": "markdown",
   "id": "467ac4c4",
   "metadata": {},
   "source": [
    "## 1.1 - Transformação de Cores"
   ]
  },
  {
   "cell_type": "code",
   "execution_count": null,
   "id": "d98051f3",
   "metadata": {},
   "outputs": [],
   "source": [
    "imagens_pb = []\n",
    "for imagem, nome in imagens_orig:\n",
    "    imagem_pb = cv2.cvtColor(imagem, cv2.COLOR_RGB2GRAY)\n",
    "    imagem_pb = np.where(imagem_pb < 255, 0, imagem_pb).astype(np.uint8)\n",
    "    imagens_pb.append((imagem_pb, nome))\n",
    "\n",
    "fig, axes = plt.subplots(len(imagens_orig), 2, figsize=(20, 20))\n",
    "for i, (imagem, nome) in enumerate(imagens_orig):\n",
    "    axes[i, 0].imshow(imagem)\n",
    "    axes[i, 0].set_title(f'Imagem Original: {nome}')\n",
    "    axes[i, 0].axis('off')\n",
    "\n",
    "    axes[i, 1].imshow(imagens_pb[i][0], cmap='gray')\n",
    "    axes[i, 1].set_title(f'Imagem em Escala de Cinza: {nome}')\n",
    "    axes[i, 1].axis('off')\n",
    "plt.tight_layout()\n",
    "plt.savefig(output_path_prop + 'imagens_orig_gray.png')\n",
    "plt.show()"
   ]
  },
  {
   "cell_type": "markdown",
   "id": "f4202e43",
   "metadata": {},
   "source": [
    "## 1.2 - Contornos dos Objetos"
   ]
  },
  {
   "cell_type": "code",
   "execution_count": null,
   "id": "d1c33819",
   "metadata": {},
   "outputs": [],
   "source": [
    "imagens_contornos = []\n",
    "for imagem, nome in imagens_pb:\n",
    "    contornos, _ = cv2.findContours(255 - imagem, cv2.RETR_EXTERNAL, cv2.CHAIN_APPROX_SIMPLE)\n",
    "    imagem_contornos = np.ones_like(imagem)\n",
    "    print(f'Contornos encontrados: {len(contornos)} para a imagem {nome}')\n",
    "    cv2.drawContours(imagem_contornos, contornos, -1, 0, 1)\n",
    "    imagens_contornos.append((imagem_contornos, nome))\n",
    "    plt.show()\n",
    "\n",
    "fig, axes = plt.subplots(len(imagens_contornos), 2, figsize=(20, 20))\n",
    "for i, ((imagem_contornos, nome), (imagem_pb, _)) in enumerate(zip(imagens_contornos, imagens_pb)):\n",
    "    axes[i, 0].imshow(imagem_pb, cmap='gray')\n",
    "    axes[i, 0].set_title(f'Imagem em Escala de Cinza: {nome}')\n",
    "    axes[i, 0].axis('off')\n",
    "\n",
    "    axes[i, 1].imshow(imagem_contornos, cmap='gray')\n",
    "    axes[i, 1].set_title(f'Contornos: {nome}')\n",
    "    axes[i, 1].axis('off')\n",
    "plt.tight_layout()\n",
    "plt.savefig(output_path_prop + 'contornos.png')\n",
    "plt.show()"
   ]
  },
  {
   "cell_type": "markdown",
   "id": "7e336f82",
   "metadata": {},
   "source": [
    "## 1.3 - Extração de Propriedades do Objetos"
   ]
  },
  {
   "cell_type": "code",
   "execution_count": null,
   "id": "0f1d26eb",
   "metadata": {},
   "outputs": [],
   "source": [
    "fig, axes = plt.subplots(len(imagens_pb), 2, figsize=(20, 20))\n",
    "\n",
    "for i, ((imagem_contornos, nome), (imagem_pb, _)) in enumerate(zip(imagens_contornos, imagens_pb)):\n",
    "    label_img = label(255 - imagem_pb, connectivity=2)\n",
    "    regioes = regionprops(label_img)\n",
    "    print(f\"Propriedades da imagem {nome}:\")\n",
    "    \n",
    "    image_label_overlay = label2rgb(label_img, image=imagem_pb, bg_label=0)\n",
    "    axes[i, 0].imshow(imagem_contornos, cmap='gray')\n",
    "    axes[i, 0].set_title(f'Contornos: {nome}')\n",
    "    axes[i, 0].axis('off')\n",
    "\n",
    "    axes[i, 1].imshow(image_label_overlay)\n",
    "    for reg in regioes:\n",
    "        print(f\"  Região: {reg.label}, Perímetro: {reg.perimeter:.6f}, Área: {reg.area:.0f}\")\n",
    "        y, x = reg.centroid\n",
    "        axes[i, 1].text(x, y, str(reg.label), color=\"white\", fontsize=18, weight=\"bold\", ha=\"center\", va=\"center\")\n",
    "    axes[i, 1].set_title(f'Imagem com Regiões Rotuladas: {nome}')\n",
    "    axes[i, 1].axis('off')\n",
    "plt.tight_layout()\n",
    "plt.savefig(output_path_prop + 'regioes.png')\n",
    "plt.show()"
   ]
  },
  {
   "cell_type": "markdown",
   "id": "71e35b67",
   "metadata": {},
   "source": [
    "## 1.4 - Histograma de Área dos Objetos"
   ]
  },
  {
   "cell_type": "code",
   "execution_count": null,
   "id": "6657fecc",
   "metadata": {},
   "outputs": [],
   "source": [
    "areas = []\n",
    "thr_pm = 1500\n",
    "thr_mg = 3000\n",
    "\n",
    "for i, (imagem_pb, nome) in enumerate(imagens_pb):\n",
    "    label_img = label(255 - imagem_pb, connectivity=2)\n",
    "    regioes = regionprops(label_img)\n",
    "    areas.append((nome, [reg.area for reg in regioes]))\n",
    "\n",
    "histogramas = []\n",
    "for nome, area in areas:\n",
    "    area = np.array(area)\n",
    "    hist_p = np.count_nonzero(area < thr_pm)\n",
    "    hist_m = np.count_nonzero((thr_pm <= area) & (area < thr_mg))\n",
    "    hist_g = np.count_nonzero(area >= thr_mg)\n",
    "    histogramas.append((nome, hist_p, hist_m, hist_g))\n",
    "\n",
    "fig, axes = plt.subplots(len(histogramas), 1, figsize=(10, 5 * len(histogramas)))\n",
    "\n",
    "for i, (nome, hist_p, hist_m, hist_g) in enumerate(histogramas):\n",
    "    print(f'Número de Regiões na imagem {nome}: Pequenas: {hist_p}, Médias: {hist_m}, Grandes: {hist_g}')\n",
    "    valores = [hist_p, hist_m, hist_g]\n",
    "    categorias = ['P', 'M', 'G']\n",
    "    cores = ['blue', 'orange', 'green']\n",
    "\n",
    "    axes[i].bar(categorias, valores, color=cores)\n",
    "    axes[i].set_title(f'Histograma de Áreas: {nome}')\n",
    "    axes[i].set_xlabel('Categorias')\n",
    "    axes[i].set_ylabel('Número de Objetos')\n",
    "\n",
    "    max_val = max(valores)\n",
    "    axes[i].set_ylim(0, max_val + 1)\n",
    "\n",
    "    for j, val in enumerate(valores):\n",
    "        axes[i].text(j, val + 0.1, str(val), ha='center', va='bottom', fontsize=10, fontweight='bold')\n",
    "\n",
    "plt.tight_layout()\n",
    "plt.savefig(output_path_prop + 'histogramas_areas.png')\n",
    "plt.show()"
   ]
  },
  {
   "cell_type": "markdown",
   "id": "a6b4773c",
   "metadata": {},
   "source": [
    "# 2 - Transformações Geométricas"
   ]
  },
  {
   "cell_type": "code",
   "execution_count": 2,
   "id": "018271a9",
   "metadata": {},
   "outputs": [],
   "source": [
    "nome = \"seagull\"\n",
    "imagem = cv2.imread(f\"./images/{nome}.png\", cv2.IMREAD_GRAYSCALE)"
   ]
  },
  {
   "cell_type": "code",
   "execution_count": null,
   "id": "3215edc7",
   "metadata": {},
   "outputs": [],
   "source": [
    "def matriz_escala(x : float = 1, y : float = 1, inverse : bool = False) -> np.ndarray:\n",
    "    matriz = np.array([[x, 0, 0],\n",
    "                       [0, y, 0],\n",
    "                       [0, 0, 1]])\n",
    "    return np.linalg.inv(matriz) if inverse else matriz\n",
    "\n",
    "def matriz_rotacao(angulo : float = 0, inverse : bool = False) -> np.ndarray:\n",
    "    angulo_rad = np.deg2rad(-angulo)\n",
    "    matriz = np.array([[np.cos(angulo_rad), -np.sin(angulo_rad), 0],\n",
    "                       [np.sin(angulo_rad), np.cos(angulo_rad), 0],\n",
    "                       [0, 0, 1]])\n",
    "    return np.linalg.inv(matriz) if inverse else matriz\n",
    "\n",
    "def matriz_translacao(tx : float = 0, ty : float = 0, inverse : bool = False) -> np.ndarray:\n",
    "    matriz = np.array([[1, 0, tx],\n",
    "                       [0, 1, ty],\n",
    "                       [0, 0, 1]])\n",
    "    return np.linalg.inv(matriz) if inverse else matriz\n",
    "def nova_dimensao(imagem : np.ndarray, matriz: np.ndarray) -> tuple:\n",
    "    altura_orig, largura_orig = imagem.shape[0], imagem.shape[1]\n",
    "    xy1 = np.array([altura_orig, largura_orig, 1])\n",
    "    xy2 = matriz @ xy1\n",
    "    nova_altura, nova_largura, _ = xy2\n",
    "    return nova_altura, nova_largura"
   ]
  },
  {
   "cell_type": "markdown",
   "id": "8fcb63c1",
   "metadata": {},
   "source": [
    "## 2.1 - Interpolação pelo Vizinho Mais Próximo"
   ]
  },
  {
   "cell_type": "code",
   "execution_count": null,
   "id": "d562b346",
   "metadata": {},
   "outputs": [
    {
     "data": {
      "text/plain": [
       "bool"
      ]
     },
     "execution_count": 1,
     "metadata": {},
     "output_type": "execute_result"
    }
   ],
   "source": [
    "def inter_prox(imagem: np.ndarray, angulo : float = None, escala_x : float = None, escala_y : float = None ) -> list[np.ndarray, np.ndarray]:\n",
    "    if angulo is not None:\n",
    "        matriz_op_dir = matriz_rotacao(angulo)\n",
    "        matriz_op_inv = matriz_rotacao(angulo, inverse=True)\n",
    "        matriz_trl_dir = matriz_translacao(-imagem.shape[1] // 2, -imagem.shape[0] // 2)\n",
    "        matriz_trl_inv = matriz_translacao(-imagem.shape[1] // 2, -imagem.shape[0] // 2, inverse=True)\n",
    "    elif escala_x is not None and escala_y is not None:\n",
    "        matriz_op_dir = matriz_escala(escala_x, escala_y)\n",
    "        matriz_op_inv = matriz_escala(escala_x, escala_y, inverse=True)\n",
    "    \n",
    "    nova_altura, nova_largura = nova_dimensao(imagem, matriz_op_dir)\n",
    "\n",
    "    imagem1 = np.zeros_like(imagem)\n",
    "    if imagem.ndim == 2:\n",
    "        imagem2 = np.zeros((nova_altura, nova_largura), dtype=np.uint8)\n",
    "    elif imagem.ndim == 3:\n",
    "        imagem2 = np.zeros((nova_altura, nova_largura, imagem.shape[-1]), dtype=np.uint8)\n",
    "    \n",
    "    imagem1[::] = "
   ]
  },
  {
   "cell_type": "code",
   "execution_count": 45,
   "id": "e449aa2d",
   "metadata": {},
   "outputs": [
    {
     "name": "stdout",
     "output_type": "stream",
     "text": [
      "(3, 1)\n",
      "[[ 6.123234e-17 -1.000000e+00  0.000000e+00]\n",
      " [ 1.000000e+00  6.123234e-17  0.000000e+00]\n",
      " [ 0.000000e+00  0.000000e+00  1.000000e+00]]\n",
      "[[ 1  0 -2]\n",
      " [ 0  1 -1]\n",
      " [ 0  0  1]]\n",
      "[[4]\n",
      " [2]\n",
      " [1]]\n",
      "----------------------------------------\n",
      "[[2]\n",
      " [1]\n",
      " [1]]\n",
      "[[-2.]\n",
      " [ 4.]\n",
      " [ 1.]]\n",
      "[[-1.]\n",
      " [ 2.]\n",
      " [ 1.]]\n"
     ]
    }
   ],
   "source": [
    "a = matriz_rotacao(90)\n",
    "b = matriz_translacao(-2, -1)\n",
    "\n",
    "teste = np.array([[1, 2, 3, 4, 5],\n",
    "                  [2, 3, 4, 5, 6],\n",
    "                  [3, 4, 5, 6, 7]])\n",
    "\n",
    "tam = np.array([[4], [2], [1]])\n",
    "print(tam.shape)\n",
    "# tam = [0,0,1]\n",
    "\n",
    "print(a)\n",
    "print(b)\n",
    "print(tam)\n",
    "print('--' * 20)\n",
    "\n",
    "print(b @ tam)\n",
    "print(a @ tam)\n",
    "print(a @ b @ tam)"
   ]
  }
 ],
 "metadata": {
  "kernelspec": {
   "display_name": "mc920",
   "language": "python",
   "name": "python3"
  },
  "language_info": {
   "codemirror_mode": {
    "name": "ipython",
    "version": 3
   },
   "file_extension": ".py",
   "mimetype": "text/x-python",
   "name": "python",
   "nbconvert_exporter": "python",
   "pygments_lexer": "ipython3",
   "version": "3.13.2"
  }
 },
 "nbformat": 4,
 "nbformat_minor": 5
}
