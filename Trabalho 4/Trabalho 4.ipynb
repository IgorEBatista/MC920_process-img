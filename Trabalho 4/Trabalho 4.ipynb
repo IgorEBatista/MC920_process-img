{
 "cells": [
  {
   "cell_type": "code",
   "execution_count": 2,
   "id": "27d59170",
   "metadata": {},
   "outputs": [],
   "source": [
    "import numpy as np\n",
    "import matplotlib.pyplot as plt\n",
    "import cv2\n",
    "import os\n",
    "\n",
    "input_path = 'images/'\n",
    "output_path = 'output/'\n",
    "\n",
    "if not os.path.exists(output_path):\n",
    "    os.makedirs(output_path)\n",
    "\n",
    "if not os.path.exists(output_path + 'proj/' ):\n",
    "    os.makedirs(output_path + 'proj/' )\n",
    "\n",
    "if not os.path.exists(output_path + 'transf/' ):\n",
    "    os.makedirs(output_path + 'transf/' )"
   ]
  },
  {
   "cell_type": "markdown",
   "id": "f7552876",
   "metadata": {},
   "source": [
    "# 1 - Medidas dos Objetos"
   ]
  },
  {
   "cell_type": "code",
   "execution_count": 7,
   "id": "595d791b",
   "metadata": {},
   "outputs": [
    {
     "name": "stderr",
     "output_type": "stream",
     "text": [
      "libpng warning: iCCP: profile 'default_rgb.icc': 0h: PCS illuminant is not D50\n",
      "libpng warning: iCCP: profile 'default_rgb.icc': 0h: PCS illuminant is not D50\n"
     ]
    }
   ],
   "source": [
    "# Carregar as imagens\n",
    "imagens = []\n",
    "for nome in sorted(os.listdir('images/')):\n",
    "    if nome.endswith('.png'):\n",
    "        imagem = cv2.imread(f'./images/{nome}', cv2.IMREAD_COLOR)\n",
    "        imagem = cv2.cvtColor(imagem, cv2.COLOR_BGR2RGB)\n",
    "        imagens.append((imagem, nome[:-4]))"
   ]
  },
  {
   "cell_type": "markdown",
   "id": "467ac4c4",
   "metadata": {},
   "source": [
    "## 1.1 - Transformação de Cores"
   ]
  }
 ],
 "metadata": {
  "kernelspec": {
   "display_name": "mc920",
   "language": "python",
   "name": "python3"
  },
  "language_info": {
   "codemirror_mode": {
    "name": "ipython",
    "version": 3
   },
   "file_extension": ".py",
   "mimetype": "text/x-python",
   "name": "python",
   "nbconvert_exporter": "python",
   "pygments_lexer": "ipython3",
   "version": "3.13.2"
  }
 },
 "nbformat": 4,
 "nbformat_minor": 5
}
