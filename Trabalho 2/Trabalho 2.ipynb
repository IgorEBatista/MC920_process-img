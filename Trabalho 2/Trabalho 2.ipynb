{
 "cells": [
  {
   "cell_type": "code",
   "execution_count": null,
   "metadata": {},
   "outputs": [],
   "source": [
    "# Realizar as importações\n",
    "import numpy as np\n",
    "import matplotlib.pyplot as plt\n",
    "import cv2\n",
    "import os\n",
    "\n",
    "input_path = 'images/'\n",
    "output_path = 'output/'\n",
    "\n",
    "if not os.path.exists(output_path):\n",
    "    os.makedirs(output_path)"
   ]
  },
  {
   "cell_type": "markdown",
   "metadata": {},
   "source": [
    "# 1 - Técnicas de Meios-Tons "
   ]
  },
  {
   "cell_type": "markdown",
   "metadata": {},
   "source": [
    "## 1.1 - Definindo os Kernels"
   ]
  },
  {
   "cell_type": "code",
   "execution_count": null,
   "metadata": {},
   "outputs": [],
   "source": [
    "kernels = {\n",
    "    \"floyd_steinberg\": np.array([\n",
    "        [   0,    0, 7/16],\n",
    "        [3/16, 5/16, 1/16]\n",
    "    ]),\n",
    "\n",
    "    \"stevenson_arce\": np.array([\n",
    "        [     0,       0,       0,      0,       0, 32/200,       0],\n",
    "        [12/200,       0,  26/200,      0,  30/200,      0,  16/200],\n",
    "        [     0,  12/200,       0, 26/200,       0, 12/200,       0],\n",
    "        [ 5/200,       0,  12/200,      0,  12/200,      0,   5/200]\n",
    "    ]),\n",
    "    \"burkes\": np.array([\n",
    "        [   0,    0,    0, 8/32, 4/32],\n",
    "        [2/32, 4/32, 8/32, 4/32, 2/32]\n",
    "    ]),\n",
    "\n",
    "    \"sierra\": np.array([\n",
    "        [   0,    0,    0, 5/32, 3/32],\n",
    "        [2/32, 4/32, 5/32, 4/32, 2/32],\n",
    "        [   0, 2/32, 3/32, 2/32, 0]\n",
    "    ]),\n",
    "\n",
    "    \"stucki\": np.array([\n",
    "        [   0,    0,    0, 8/42, 4/42],\n",
    "        [2/42, 4/42, 8/42, 4/42, 2/42],\n",
    "        [1/42, 2/42, 4/42, 2/42, 1/42]\n",
    "    ]),\n",
    "\n",
    "    \"jarvis_judice_ninke\": np.array([\n",
    "        [   0,    0,    0, 7/48, 5/48],\n",
    "        [3/48, 5/48, 7/48, 5/48, 3/48],\n",
    "        [1/48, 3/48, 5/48, 3/48, 1/48]\n",
    "    ])\n",
    "}"
   ]
  },
  {
   "cell_type": "markdown",
   "metadata": {},
   "source": [
    "## 1.2 - Definir a função de difusão de erros"
   ]
  },
  {
   "cell_type": "code",
   "execution_count": null,
   "metadata": {},
   "outputs": [],
   "source": [
    "def difusao(imagem, kernel, zigzag=False):\n",
    "    h, w = imagem.shape\n",
    "    img = imagem.copy().astype(np.float32)\n",
    "\n",
    "    kh, kw = kernel.shape\n",
    "\n",
    "    for y in range(h):\n",
    "        if zigzag and y % 2 == 1:\n",
    "            x_range = range(w-1, -1, -1)\n",
    "            direcao = -1\n",
    "        else:\n",
    "            x_range = range(w)\n",
    "            direcao = 1\n",
    "\n",
    "        for x in x_range:\n",
    "            original = img[y, x]\n",
    "            novo = 0 if original < 128 else 255\n",
    "            erro = original - novo\n",
    "            img[y, x] = novo\n",
    "\n",
    "            offset = kw // 2\n",
    "            \n",
    "            for dy in range(kh):\n",
    "                for dx in range(kw):\n",
    "                    nx = x + (dx - offset) * direcao\n",
    "                    ny = y + dy\n",
    "                    if 0 <= nx < w and 0 <= ny < h:\n",
    "                        img[ny, nx] += erro * kernel[dy, dx]\n",
    "    return img.astype(np.uint8)"
   ]
  },
  {
   "cell_type": "markdown",
   "metadata": {},
   "source": [
    "## 1.3 - Carregar as imagens"
   ]
  },
  {
   "cell_type": "code",
   "execution_count": null,
   "metadata": {},
   "outputs": [],
   "source": [
    "orig_g = []\n",
    "nome = 'house'\n",
    "imagem_gray = cv2.imread(input_path + nome + '.png', cv2.IMREAD_GRAYSCALE)\n",
    "imagem_gray = imagem_gray.astype(np.float32)\n",
    "orig_g.append(imagem_gray)\n",
    "nome = 'city'\n",
    "imagem_gray = cv2.imread(input_path + nome + '.png', cv2.IMREAD_GRAYSCALE)\n",
    "imagem_gray = imagem_gray.astype(np.float32)\n",
    "orig_g.append(imagem_gray)\n",
    "\n",
    "orig_c = []\n",
    "nome = 'capadocia'\n",
    "imagem = cv2.imread(input_path + nome + '.png', cv2.IMREAD_COLOR)\n",
    "imagem_cor = cv2.cvtColor(imagem, cv2.COLOR_BGR2RGB)\n",
    "imagem_cor = imagem_cor.astype(np.float32)\n",
    "orig_c.append(imagem_cor)\n",
    "nome = 'peppers'\n",
    "imagem = cv2.imread(input_path + nome + '.png', cv2.IMREAD_COLOR)\n",
    "imagem_cor = cv2.cvtColor(imagem, cv2.COLOR_BGR2RGB)\n",
    "imagem_cor = imagem_cor.astype(np.float32)\n",
    "orig_c.append(imagem_cor)"
   ]
  },
  {
   "cell_type": "markdown",
   "metadata": {},
   "source": [
    "## 1.4 - Aplicar as Técnicas de Meios-Tons"
   ]
  },
  {
   "cell_type": "code",
   "execution_count": null,
   "metadata": {},
   "outputs": [],
   "source": [
    "imagens_g = []\n",
    "titulos_g = []\n",
    "imagens_c = []\n",
    "titulos_c = []\n",
    "\n",
    "for i in range(len(orig_g)):\n",
    "    img_res = []\n",
    "    i_titulo = []\n",
    "    for nome, kernel in kernels.items():\n",
    "        result = difusao(orig_g[i], kernel, zigzag=True)\n",
    "        img_res.append(result)\n",
    "        i_titulo.append(nome.replace(\"_\", \" \").title())\n",
    "    imagens_g.append(img_res)\n",
    "    titulos_g.append(i_titulo)\n",
    "\n",
    "for i in range(len(orig_c)):\n",
    "    img_res = []\n",
    "    i_titulo = []\n",
    "    for nome, kernel in kernels.items():\n",
    "        bands = []\n",
    "        for y in range(orig_c[i].shape[2]):\n",
    "            result = difusao(orig_c[i][:,:,y], kernel, zigzag=True)\n",
    "            bands.append(result)\n",
    "        img_res.append(cv2.merge(bands))\n",
    "        i_titulo.append(nome.replace(\"_\", \" \").title())\n",
    "    imagens_c.append(img_res)\n",
    "    titulos_c.append(i_titulo)"
   ]
  },
  {
   "cell_type": "code",
   "execution_count": null,
   "metadata": {},
   "outputs": [],
   "source": [
    "for i in range(len(imagens_g)):\n",
    "    for y in range(((len(imagens_g[i])-1) //2) + 1):\n",
    "        plt.figure(figsize=(60, 25))\n",
    "        plt.subplot(1, 3, 1)\n",
    "        plt.imshow(orig_g[i], cmap='gray')\n",
    "        plt.title(f\"Imagem Original {i}\", fontsize=30)\n",
    "        plt.axis('off')\n",
    "        for z in range(2):\n",
    "            plt.subplot(1, 3, z + 2)\n",
    "            plt.imshow(imagens_g[i][2*y + z], cmap='gray')\n",
    "            plt.title(titulos_g[i][2*y + z], fontsize=30)\n",
    "            plt.axis('off')\n",
    "            cv2.imwrite(output_path + f\"1_gray_{i}_\" + titulos_g[i][2*y + z].replace(\" \", \"_\") + \".png\", imagens_g[i][2*y + z], [cv2.IMWRITE_PNG_COMPRESSION, 0])\n",
    "    plt.show()\n",
    "\n",
    "for i in range(len(imagens_c)):\n",
    "    for y in range(((len(imagens_c[i])-1) //2) + 1):\n",
    "        plt.figure(figsize=(60, 25))\n",
    "        plt.subplot(1, 3, 1)\n",
    "        plt.imshow(orig_c[i] / 255)\n",
    "        plt.title(f\"Imagem Original {i+len(imagens_g)}\", fontsize=30)\n",
    "        plt.axis('off')\n",
    "        for z in range(2):\n",
    "            plt.subplot(1, 3, z + 2)\n",
    "            plt.imshow(imagens_c[i][2*y + z])\n",
    "            plt.title(titulos_c[i][2*y + z], fontsize=30)\n",
    "            plt.axis('off')\n",
    "            imagens_c[i][2*y + z] = cv2.cvtColor(imagens_c[i][2*y + z], cv2.COLOR_RGB2BGR)\n",
    "            cv2.imwrite(output_path + f\"1_cor_{i+len(imagens_g)}_\" + titulos_c[i][2*y + z].replace(\" \", \"_\") + \".png\", imagens_c[i][2*y + z], [cv2.IMWRITE_PNG_COMPRESSION, 0])\n",
    "            imagens_c[i][2*y + z] = cv2.cvtColor(imagens_c[i][2*y + z], cv2.COLOR_BGR2RGB)\n",
    "    plt.show()"
   ]
  },
  {
   "cell_type": "markdown",
   "metadata": {},
   "source": [
    "# 2 - Filtragem no Domínio da Frequência  e Compressão de imagem"
   ]
  },
  {
   "cell_type": "markdown",
   "metadata": {},
   "source": [
    "## 2.1 - Filtragem no Domínio da Frequência"
   ]
  },
  {
   "cell_type": "markdown",
   "metadata": {},
   "source": [
    "### 2.1.1 - Abertura da imagem e aplicação da transformada"
   ]
  },
  {
   "cell_type": "code",
   "execution_count": null,
   "metadata": {},
   "outputs": [],
   "source": [
    "nome = 'house'\n",
    "imagem_gray = cv2.imread(input_path + nome + '.png', cv2.IMREAD_GRAYSCALE)\n",
    "imagem_gray = imagem_gray.astype(np.float32)\n",
    "\n",
    "freq = np.fft.fft2(imagem_gray)\n",
    "freq = np.fft.fftshift(freq)\n",
    "\n",
    "magnitude_spectrum = np.log(1 + np.abs(freq))\n",
    "\n",
    "plt.imshow(magnitude_spectrum, cmap='gray')\n",
    "plt.title('Espectro de Magnitude')\n",
    "plt.axis('off')\n",
    "plt.savefig(output_path + 'espectro_magnitude.png', bbox_inches='tight', pad_inches=0.1)\n",
    "plt.show()"
   ]
  },
  {
   "cell_type": "markdown",
   "metadata": {},
   "source": [
    "### 2.1.2 - Definição dos filtros"
   ]
  },
  {
   "cell_type": "code",
   "execution_count": null,
   "metadata": {},
   "outputs": [],
   "source": [
    "linhas, colunas = imagem_gray.shape\n",
    "clin, ccol = linhas // 2 , colunas // 2\n",
    "\n",
    "filtros = [[0 for _ in range(3)] for _ in range(2)] + [[[0 for _ in range(3)] for _ in range(3)] for _ in range(2)]\n",
    "nome_filtros = ['Passa-baixa', 'Passa-alta', 'Passa-faixa', 'Rejeita-faixa']\n",
    "raio = [30, 100, 250]\n",
    "medias = [30, 100, 200]\n",
    "larguras = [10, 20, 50]\n",
    "\n",
    "# Passa-baixa\n",
    "for i in range(3):\n",
    "    filtros[0][i] = np.zeros((linhas, colunas), np.uint8)\n",
    "    cv2.circle(filtros[0][i], (ccol, clin), raio[i], 1, thickness=-1)\n",
    "\n",
    "# Passa-alta\n",
    "for i in range(3):\n",
    "    filtros[1][i] = np.ones((linhas, colunas), np.uint8)\n",
    "    cv2.circle(filtros[1][i], (ccol, clin), raio[i], 0, thickness=-1)\n",
    "\n",
    "# Passa-faixa\n",
    "for i in range(3):\n",
    "    for j in range(3):\n",
    "        r_ext = medias[i] + larguras[j]\n",
    "        r_int = medias[i] - larguras[j]\n",
    "        filtros[2][i][j] = np.zeros((linhas, colunas), np.uint8)\n",
    "        cv2.circle(filtros[2][i][j], (ccol, clin), r_ext, 1, thickness=-1)\n",
    "        filtros[2][i][j] = cv2.circle(filtros[2][i][j], (ccol, clin), max(r_int, 5), 0, thickness=-1)\n",
    "\n",
    "# Rejeita-faixa\n",
    "for i in range(3):\n",
    "    for j in range(3):\n",
    "        r_ext = medias[i] + larguras[j]\n",
    "        r_int = medias[i] - larguras[j]\n",
    "        filtros[3][i][j] = np.ones((linhas, colunas), np.uint8)\n",
    "        cv2.circle(filtros[3][i][j], (ccol, clin), r_ext, 0, thickness=-1)\n",
    "        filtros[3][i][j] = cv2.circle(filtros[3][i][j], (ccol, clin), max(r_int, 5), 1, thickness=-1)"
   ]
  },
  {
   "cell_type": "markdown",
   "metadata": {},
   "source": [
    "### 2.1.3 - Filtragens"
   ]
  },
  {
   "cell_type": "code",
   "execution_count": null,
   "metadata": {},
   "outputs": [],
   "source": [
    "nucleos = [[0 for _ in range(3)] for _ in range(2)] + [[[0 for _ in range(3)] for _ in range(3)] for _ in range(2)]\n",
    "imagens = [[0 for _ in range(3)] for _ in range(2)] + [[[0 for _ in range(3)] for _ in range(3)] for _ in range(2)]\n",
    "\n",
    "for i in range(2):\n",
    "    for j in range(len(filtros[i])):\n",
    "        nucleos[i][j] = freq * filtros[i][j]\n",
    "        imagens[i][j] = np.fft.ifft2(nucleos[i][j])\n",
    "        nucleos[i][j] = np.log(1 + np.abs(nucleos[i][j]))\n",
    "        imagens[i][j] = np.abs(imagens[i][j])\n",
    "\n",
    "for i in range(2,4):\n",
    "    for j in range(len(filtros[i])):\n",
    "        for z in range(3):\n",
    "            nucleos[i][j][z] = freq * filtros[i][j][z]\n",
    "            imagens[i][j][z] = np.fft.ifft2(nucleos[i][j][z])\n",
    "            nucleos[i][j][z] = np.log(1 + np.abs(nucleos[i][j][z]))\n",
    "            imagens[i][j][z] = np.abs(imagens[i][j][z])"
   ]
  },
  {
   "cell_type": "markdown",
   "metadata": {},
   "source": [
    "### 2.1.4 - Visualização da filtragem"
   ]
  },
  {
   "cell_type": "code",
   "execution_count": null,
   "metadata": {},
   "outputs": [],
   "source": [
    "for i in range(2):\n",
    "    plt.figure(figsize=(30, 20))\n",
    "    for j in range(len(nucleos[i])):\n",
    "        plt.subplot(2, 3, j + 1)\n",
    "        plt.imshow(nucleos[i][j], cmap='gray')\n",
    "        plt.title(f'Núcleo {nome_filtros[i]} Raio: {raio[j]}')\n",
    "        plt.axis('off')\n",
    "        plt.subplot(2, 3, j + 1 + 3)\n",
    "        plt.imshow(imagens[i][j], cmap='gray')\n",
    "        plt.title(f'Filtro {nome_filtros[i]} Raio: {raio[j]}')\n",
    "        plt.axis('off')\n",
    "        cv2.imwrite(output_path + f\"2_ncl_{nome_filtros[i]}_r{raio[j]}.png\", nucleos[i][j], [cv2.IMWRITE_PNG_COMPRESSION, 0])\n",
    "        cv2.imwrite(output_path + f\"2_img_{nome_filtros[i]}_r{raio[j]}.png\", imagens[i][j], [cv2.IMWRITE_PNG_COMPRESSION, 0])\n",
    "    plt.savefig(output_path + f\"2_fig_{nome_filtros[i]}_r{'_'.join(map(str, raio))}.png\", bbox_inches='tight')\n",
    "    plt.show()\n",
    "for i in range(2, 4):\n",
    "    for j in range(len(nucleos[i])):\n",
    "        plt.figure(figsize=(30, 20))\n",
    "        for z in range(3):\n",
    "            plt.subplot(2, 3, z + 1)\n",
    "            plt.imshow(nucleos[i][j][z], cmap='gray')\n",
    "            plt.title(f'Núcleo {nome_filtros[i]} Raio externo: {medias[j] + larguras[z]} Raio interno: {max(medias[j] - larguras[z], 5)}')\n",
    "            plt.axis('off')\n",
    "            plt.subplot(2, 3, z + 1 + 3)\n",
    "            plt.imshow(imagens[i][j][z], cmap='gray')\n",
    "            plt.title(f'Filtro {nome_filtros[i]} Raio externo: {medias[j] + larguras[z]} Raio interno: {max(medias[j] - larguras[z], 5)}')\n",
    "            plt.axis('off')\n",
    "            cv2.imwrite(output_path + f\"2_ncl_{nome_filtros[i]}_re{medias[j] + larguras[z]}_ri{max(medias[j] - larguras[z], 5)}.png\", nucleos[i][j][z], [cv2.IMWRITE_PNG_COMPRESSION, 0])\n",
    "            cv2.imwrite(output_path + f\"2_img_{nome_filtros[i]}_re{medias[j] + larguras[z]}_ri{max(medias[j] - larguras[z], 5)}.png\", imagens[i][j][z], [cv2.IMWRITE_PNG_COMPRESSION, 0])\n",
    "        plt.savefig(output_path + f\"2_fig_{nome_filtros[i]}_media{medias[j]}.png\", bbox_inches='tight')\n",
    "    plt.show()"
   ]
  },
  {
   "cell_type": "markdown",
   "metadata": {},
   "source": [
    "## 2.2 - Compressão via Transformada de Fourrier"
   ]
  },
  {
   "cell_type": "markdown",
   "metadata": {},
   "source": [
    "### 2.2.1 - Preparação das imagens e definição dos Thresholds"
   ]
  },
  {
   "cell_type": "code",
   "execution_count": null,
   "metadata": {},
   "outputs": [],
   "source": [
    "thr_perc = [0.001 * i for i in range(6)] + [0.01, 0.02, 0.05]\n",
    "thr_real = [thr * np.max(np.abs(freq)) for thr in thr_perc]\n",
    "comprimidas = [freq.copy() for _ in range(len(thr_perc))]\n",
    "img_comp = [0 for _ in range(len(thr_perc))]"
   ]
  },
  {
   "cell_type": "markdown",
   "metadata": {},
   "source": [
    "### 2.2.2 - Processo de compressão"
   ]
  },
  {
   "cell_type": "code",
   "execution_count": null,
   "metadata": {},
   "outputs": [],
   "source": [
    "for i in range(len(thr_perc)):\n",
    "    comprimidas[i][np.abs(comprimidas[i]) < thr_real[i]] = 0\n",
    "    img_comp[i] = np.fft.ifft2(comprimidas[i])\n",
    "    comprimidas[i] = np.log(1 + np.abs(comprimidas[i]))\n",
    "    img_comp[i] = np.abs(img_comp[i])"
   ]
  },
  {
   "cell_type": "markdown",
   "metadata": {},
   "source": [
    "### 2.2.3 - Visualização das imagens e histogramas"
   ]
  },
  {
   "cell_type": "code",
   "execution_count": null,
   "metadata": {},
   "outputs": [],
   "source": [
    "for i in range(len(thr_perc)):\n",
    "    plt.figure(figsize=(30, 10), layout='tight')\n",
    "    plt.subplot(1, 3, 1)\n",
    "    plt.imshow(comprimidas[i], cmap='gray')\n",
    "    plt.title(f'Espectro de Magnitude - {thr_perc[i]*100}%')\n",
    "    plt.axis('off')\n",
    "    plt.subplot(1, 3, 2)\n",
    "    plt.imshow(img_comp[i], cmap='gray')\n",
    "    plt.title(f'Imagem - {thr_perc[i]*100}%')\n",
    "    plt.axis('off')\n",
    "    plt.subplot(1, 3, 3)\n",
    "    plt.hist(img_comp[i].ravel(), bins=256, range=[0, 256], color='blue')\n",
    "    plt.title(f'Histograma - Threshold {thr_perc[i]*100}%')\n",
    "    cv2.imwrite(output_path + f\"3_ncl_thr{thr_perc[i]*100}.png\", comprimidas[i], [cv2.IMWRITE_PNG_COMPRESSION, 0])\n",
    "    cv2.imwrite(output_path + f\"3_img_thr{thr_perc[i]*100}.png\", img_comp[i], [cv2.IMWRITE_PNG_COMPRESSION, 0])\n",
    "    plt.savefig(output_path + f\"3_fig_thr_{thr_perc[i]*100}.png\")\n",
    "    plt.show()"
   ]
  }
 ],
 "metadata": {
  "kernelspec": {
   "display_name": "mc920",
   "language": "python",
   "name": "python3"
  },
  "language_info": {
   "codemirror_mode": {
    "name": "ipython",
    "version": 3
   },
   "file_extension": ".py",
   "mimetype": "text/x-python",
   "name": "python",
   "nbconvert_exporter": "python",
   "pygments_lexer": "ipython3",
   "version": "3.13.2"
  }
 },
 "nbformat": 4,
 "nbformat_minor": 2
}
